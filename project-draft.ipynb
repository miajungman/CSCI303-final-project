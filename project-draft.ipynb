{
 "cells": [
  {
   "cell_type": "markdown",
   "id": "8810b802",
   "metadata": {},
   "source": [
    "# Task list\n",
    "**1. title page**\n",
    "**2. Overview**\n",
    "**3. Data aquistition**\n"
   ]
  },
  {
   "cell_type": "markdown",
   "id": "a8a667e2",
   "metadata": {},
   "source": [
    "### Data aquisition\n",
    "\n",
    "**figures**\n",
    "1. movies that have film adaptations\n",
    "2. live player stats\n",
    "3. rotten tomatoes\n",
    "4. demographics"
   ]
  },
  {
   "cell_type": "code",
   "execution_count": null,
   "id": "0c26f182",
   "metadata": {},
   "outputs": [],
   "source": []
  },
  {
   "cell_type": "code",
   "execution_count": null,
   "id": "027fc768",
   "metadata": {},
   "outputs": [],
   "source": []
  }
 ],
 "metadata": {
  "kernelspec": {
   "display_name": "Python 3 (ipykernel)",
   "language": "python",
   "name": "python3"
  },
  "language_info": {
   "codemirror_mode": {
    "name": "ipython",
    "version": 3
   },
   "file_extension": ".py",
   "mimetype": "text/x-python",
   "name": "python",
   "nbconvert_exporter": "python",
   "pygments_lexer": "ipython3",
   "version": "3.9.13"
  }
 },
 "nbformat": 4,
 "nbformat_minor": 5
}
